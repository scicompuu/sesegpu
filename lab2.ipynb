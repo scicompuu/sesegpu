{
 "cells": [
  {
   "cell_type": "markdown",
   "metadata": {},
   "source": [
    "# Lab 2\n",
    "In this lab, we will implement [Conway's Game of Life](https://en.wikipedia.org/wiki/Conway%27s_Game_of_Life) in a naïve way using the GPU in TensorFlow. Like we discussed in the lecture, there are more efficient algorithms that use the presence of reoccurring patterns within the Life board to speed up the processing.\n",
    "\n",
    "First, we will prepare our environment, then we'll get back to what the rules for the game are. We are using a small auxiliary script `lifereader.py` that you can inspect yourself."
   ]
  },
  {
   "cell_type": "code",
   "execution_count": null,
   "metadata": {},
   "outputs": [],
   "source": [
    "%matplotlib inline\n",
    "import matplotlib.pyplot as plt\n",
    "import lifereader\n",
    "import numpy as np\n",
    "import tensorflow as tf\n",
    "\n",
    "# The following two lines DISABLE GPU usage and logs all activities executed by TensorFlow.\n",
    "##tf.config.set_visible_devices([], 'GPU')\n",
    "##tf.debugging.set_log_device_placement(True)\n"
   ]
  },
  {
   "cell_type": "markdown",
   "metadata": {},
   "source": [
    "We will download a zip file with lots of game of life patterns, and try at least one of them in our code. Specifically,\n",
    "you should download [lifep.zip](http://www.ibiblio.org/lifepatterns/lifep.zip) from [Alan Hensel's](http://www.ibiblio.org/lifepatterns/) page.\n",
    "\n",
    "On an UPPMAX machine, you can download and unzip this file with the following commands:\n",
    "\n",
    "    wget http://www.ibiblio.org/lifepatterns/lifep.zip\n",
    "    unzip lifep.zip\n",
    "    \n",
    "Now we can try loading one file."
   ]
  },
  {
   "cell_type": "code",
   "execution_count": null,
   "metadata": {},
   "outputs": [],
   "source": [
    "board = lifereader.readlife('BREEDER3.LIF', 2048)"
   ]
  },
  {
   "cell_type": "markdown",
   "metadata": {},
   "source": [
    "Let's check what this looks like. "
   ]
  },
  {
   "cell_type": "code",
   "execution_count": null,
   "metadata": {},
   "outputs": [],
   "source": [
    "plt.figure(figsize=(20,20))\n",
    "plt.imshow(board[768:1280,768:1280])"
   ]
  },
  {
   "cell_type": "markdown",
   "metadata": {},
   "source": [
    "You can check qualitatively that this looks similar to the initial step in the Wikipedia [Breeder](https://en.wikipedia.org/wiki/Breeder_(cellular_automaton) ) page\n",
    "\n",
    "Let's zoom out a bit and check the full picture."
   ]
  },
  {
   "cell_type": "code",
   "execution_count": null,
   "metadata": {},
   "outputs": [],
   "source": [
    "plt.figure(figsize=(20,20))\n",
    "plt.imshow(board)"
   ]
  },
  {
   "cell_type": "markdown",
   "metadata": {},
   "source": [
    "Since we will be using TensorFlow, we should convert this board to a tensor. We will even do it three times,\n",
    "in two different formats. Feel free to decide which one you use in your implementation.\n",
    "\n"
   ]
  },
  {
   "cell_type": "code",
   "execution_count": null,
   "metadata": {},
   "outputs": [],
   "source": [
    "boardtfbool = tf.cast(board, dtype=tf.bool)\n",
    "boardtfuint8 = tf.cast(board, dtype=tf.uint8)\n",
    "boardtfint32 = tf.cast(board, dtype=tf.int32)\n",
    "boardtffloat16 = tf.cast(board, dtype=tf.half)"
   ]
  },
  {
   "cell_type": "markdown",
   "metadata": {},
   "source": [
    "The standard rules of Game of Life are pretty simple:\n",
    "* Each cell has 8 neighbors, i.e. the 8 adjacent cells in each direction (including diagonals). All behavior is defined from the current state of a cell and it's neighbors.\n",
    "* A live cell is a cell containing `1` or `True`. The opposite is a dead cell.\n",
    "* In each iteration of the game, all cells are updated based on the state of that cell and its neighbors in the previous iteration. It doesn't matter which neighbors are turning dead/live during the same iteration.\n",
    "* Any live cell with tho or three neighbors survive\n",
    "   * All other live cells die\n",
    "* Any dead cell with three live neighbors gets alive\n",
    "   * All other dead cells stay dead\n",
    "   \n",
    "You should implement the function `runlife` below. It accepts a Game of Life board tensor and the number of iterations. It should return a new tensor with the relevant updates. Try to use existing functions in the [TensorFlow API](https://www.tensorflow.org/versions/r2.1/api_docs/python/tf) rather than rolling your own. Note that inspecting the state of your neighbors and yourself might be possible to express as a convolution, but it might not be the fastest way. There might be a bug in some configurations with doing GPU convolutions for `int32` data.\n",
    "\n",
    "We tag this function as `@tf.function` in order to make TensorFlow optimize the full graph. You might want to remove that for making debugging easier (feel free to copy code out of Jupyter if you want to debug in another environment, as well).\n",
    "\n",
    "Note: You do not have to implement any specific behavior for cells right at the edge, as long as dead cells with only dead neighbors stay dead."
   ]
  },
  {
   "cell_type": "code",
   "execution_count": null,
   "metadata": {},
   "outputs": [],
   "source": [
    "@tf.function\n",
    "def runlife(board, iters):\n",
    "    # Init work\n",
    "    for _ in range(iters):\n",
    "        # Per iteration\n",
    "        pass\n",
    "    # Final work\n",
    "    return board"
   ]
  },
  {
   "cell_type": "markdown",
   "metadata": {},
   "source": [
    "We will now run the code. In this version, it was adapted to the `float16` board.\n",
    "If you used another version instead, change the code."
   ]
  },
  {
   "cell_type": "code",
   "execution_count": null,
   "metadata": {},
   "outputs": [],
   "source": [
    "%time boardresult = runlife(boardtffloat16, 1500)\n",
    "boardresult = np.cast[np.int32](boardresult)\n",
    "plt.figure(figsize=(20,20))\n",
    "plt.imshow(boardresult)"
   ]
  },
  {
   "cell_type": "markdown",
   "metadata": {},
   "source": [
    "What you might notice is that if you rerun the script, it is far faster. Is this due to some caching?\n",
    "\n",
    "You can verify that by rerunning the script again, but loading another .LIF file in the start.\n",
    "\n",
    "What actually happens is that the compiled TensorFlow graph is adapted to the exact number of iterations, but once that's done, you can run any model with that number of iterations very quickly.\n",
    "\n",
    "## Things to try\n",
    "* What speed do you get if you run on CPU instead? Remember that the default notebook setting is 4 CPU cores.\n",
    "\n",
    "* What happens if you remove @tf.function?\n",
    "\n",
    "* What happens if you change the size of the grid to something other than 2048? What happens if you change the number of iterations? Does the runtime change match your expectations?\n",
    "\n",
    "## How to report\n",
    "E-mail your *saved* final runlife method to [martin.kronbichler@it.uu.se](mailto:martin.kronbichler@it.uu.se) (either inside this notebook or as a separate text file), with some comments entered on the speed of your implementation on GPU vs CPU, what you tried, etc."
   ]
  },
  {
   "cell_type": "code",
   "execution_count": null,
   "metadata": {},
   "outputs": [],
   "source": []
  }
 ],
 "metadata": {
  "kernelspec": {
   "display_name": "Python 3",
   "language": "python",
   "name": "python3"
  },
  "language_info": {
   "codemirror_mode": {
    "name": "ipython",
    "version": 3
   },
   "file_extension": ".py",
   "mimetype": "text/x-python",
   "name": "python",
   "nbconvert_exporter": "python",
   "pygments_lexer": "ipython3",
   "version": "3.7.6"
  }
 },
 "nbformat": 4,
 "nbformat_minor": 4
}
